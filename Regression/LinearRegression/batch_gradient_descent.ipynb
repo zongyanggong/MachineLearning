{
 "cells": [
  {
   "cell_type": "markdown",
   "id": "a3ed1ff1-50a2-42ce-b8b4-17bf52ceae88",
   "metadata": {},
   "source": [
    "# Batch gradient descent"
   ]
  },
  {
   "cell_type": "code",
   "execution_count": 6,
   "id": "1f601292-0531-4251-9b06-f2f96587a41d",
   "metadata": {},
   "outputs": [],
   "source": [
    "import numpy as np"
   ]
  },
  {
   "cell_type": "code",
   "execution_count": 65,
   "id": "26f613cc-2c1d-4db7-a082-7a1709c3202d",
   "metadata": {},
   "outputs": [],
   "source": [
    "np.random.seed(100)\n",
    "x = 2* np.random.random((100, 1))\n",
    "y = 4 + 3 * x + np.random.randn(100,1)"
   ]
  },
  {
   "cell_type": "code",
   "execution_count": 66,
   "id": "e34b36e5-caf2-4c53-9ce2-3996f27c51ec",
   "metadata": {},
   "outputs": [],
   "source": [
    "x_b = np.c_[np.ones((100,1)), x]"
   ]
  },
  {
   "cell_type": "code",
   "execution_count": 77,
   "id": "59239362-c47f-47fc-84d1-966b7766a423",
   "metadata": {},
   "outputs": [],
   "source": [
    "n_iterations = 10000\n",
    "m = 100\n",
    "t0, t1 = 5,500\n",
    "def learning_rate_schedule(t):\n",
    "    return t0/(t1+t)"
   ]
  },
  {
   "cell_type": "markdown",
   "id": "2b777175-4d90-46aa-b3a3-0b450ace788e",
   "metadata": {},
   "source": [
    "## Step1: init $\\theta$\n",
    "## Step2: calculate gradient\n",
    "## Step3: calculate $\\theta^{t+1}=\\theta^t-\\eta * gradient$\n",
    "## Step4: Judging whether to converge （use a great loop to realize）"
   ]
  },
  {
   "cell_type": "code",
   "execution_count": 78,
   "id": "a33c5f66-9cfd-4deb-97ce-247f02acdeac",
   "metadata": {},
   "outputs": [
    {
     "name": "stdout",
     "output_type": "stream",
     "text": [
      "[[3.98485968]\n",
      " [2.86232612]]\n"
     ]
    }
   ],
   "source": [
    "theta = np.random.random((2,1))\n",
    "for i in range(n_iterations):\n",
    "    gradients = x_b.T.dot(x_b.dot(theta)-y)\n",
    "    learing_rate = learning_rate_schedule(i)\n",
    "    theta -= learning_rate * gradients\n",
    "print(theta)"
   ]
  }
 ],
 "metadata": {
  "kernelspec": {
   "display_name": "Python 3 (ipykernel)",
   "language": "python",
   "name": "python3"
  },
  "language_info": {
   "codemirror_mode": {
    "name": "ipython",
    "version": 3
   },
   "file_extension": ".py",
   "mimetype": "text/x-python",
   "name": "python",
   "nbconvert_exporter": "python",
   "pygments_lexer": "ipython3",
   "version": "3.9.13"
  }
 },
 "nbformat": 4,
 "nbformat_minor": 5
}