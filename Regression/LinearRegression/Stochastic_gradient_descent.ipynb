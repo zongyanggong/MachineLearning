{
 "cells": [
  {
   "cell_type": "markdown",
   "id": "d4d9de5a-feaf-4419-a925-dbb98b1d4742",
   "metadata": {},
   "source": [
    "# Stochastic gradient descent"
   ]
  },
  {
   "cell_type": "code",
   "execution_count": 1,
   "id": "7bea1cb1-5d59-4c5b-a339-0631089fe113",
   "metadata": {},
   "outputs": [],
   "source": [
    "import numpy as np"
   ]
  },
  {
   "cell_type": "code",
   "execution_count": 80,
   "id": "0e55c048-00ca-4ea9-b234-07a775999d77",
   "metadata": {},
   "outputs": [],
   "source": [
    "x =  2*np.random.random((100,1))\n",
    "y = 4 + 3 * x + np.random.randn(100,1)\n",
    "x_b = np.c_[np.ones((100,1)), x]\n",
    "n_epochs = 1000\n",
    "m = 100\n",
    "t0, t1 = 5,500\n",
    "def learning_rate_schedule(t):\n",
    "    return t0/(t1+t)"
   ]
  },
  {
   "cell_type": "markdown",
   "id": "c1e8ee44-24fb-4b36-b819-e9863b7eb4ce",
   "metadata": {},
   "source": [
    "## Step1: init $\\theta$\n",
    "## Step2: calculate gradient\n",
    "## Step3: calculate $\\theta^{t+1}=\\theta^t-\\eta * gradient$\n",
    "## Step4: Judging whether to converge （use a great loop to realize）"
   ]
  },
  {
   "cell_type": "code",
   "execution_count": 83,
   "id": "e0c56761-9f08-465d-a0a7-7c5142c2bc3c",
   "metadata": {},
   "outputs": [
    {
     "data": {
      "text/plain": [
       "array([[4.02384271],\n",
       "       [2.88340903]])"
      ]
     },
     "execution_count": 83,
     "metadata": {},
     "output_type": "execute_result"
    }
   ],
   "source": [
    "theta = np.random.random((2,1))\n",
    "for epoch in range(n_epochs):\n",
    "    attr = np.arange(m)\n",
    "    np.random.shuffle(attr)\n",
    "    x_b = x_b[attr]\n",
    "    y= y[attr]\n",
    "    for i in range(m):\n",
    "        xi = x_b[i:i+1]\n",
    "        yi = y[i:i+1]\n",
    "        gradient = xi.T.dot(xi.dot(theta)-yi)\n",
    "        learing_rate = learning_rate_schedule(epoch*m+i)\n",
    "        theta -= learning_rate * gradient\n",
    "theta\n"
   ]
  }
 ],
 "metadata": {
  "kernelspec": {
   "display_name": "Python 3 (ipykernel)",
   "language": "python",
   "name": "python3"
  },
  "language_info": {
   "codemirror_mode": {
    "name": "ipython",
    "version": 3
   },
   "file_extension": ".py",
   "mimetype": "text/x-python",
   "name": "python",
   "nbconvert_exporter": "python",
   "pygments_lexer": "ipython3",
   "version": "3.9.13"
  }
 },
 "nbformat": 4,
 "nbformat_minor": 5
}
