{
 "cells": [
  {
   "cell_type": "code",
   "execution_count": 1,
   "id": "58c17cd8-2bac-4ce8-a471-4368ab33d1ec",
   "metadata": {},
   "outputs": [],
   "source": [
    "import pandas as pd\n",
    "from sklearn import linear_model"
   ]
  },
  {
   "cell_type": "markdown",
   "id": "571ebd72-ca0d-4147-8be2-6e5559fca131",
   "metadata": {},
   "source": [
    "# import the data\n",
    "csv file add categoeritical data"
   ]
  },
  {
   "cell_type": "code",
   "execution_count": 47,
   "id": "3487ad3f-8158-400d-8805-eb4e98e0cd40",
   "metadata": {},
   "outputs": [
    {
     "data": {
      "text/html": [
       "<div>\n",
       "<style scoped>\n",
       "    .dataframe tbody tr th:only-of-type {\n",
       "        vertical-align: middle;\n",
       "    }\n",
       "\n",
       "    .dataframe tbody tr th {\n",
       "        vertical-align: top;\n",
       "    }\n",
       "\n",
       "    .dataframe thead th {\n",
       "        text-align: right;\n",
       "    }\n",
       "</style>\n",
       "<table border=\"1\" class=\"dataframe\">\n",
       "  <thead>\n",
       "    <tr style=\"text-align: right;\">\n",
       "      <th></th>\n",
       "      <th>Assignment</th>\n",
       "      <th>Miles</th>\n",
       "      <th>Numbers</th>\n",
       "      <th>VehicleType</th>\n",
       "      <th>Time</th>\n",
       "    </tr>\n",
       "  </thead>\n",
       "  <tbody>\n",
       "    <tr>\n",
       "      <th>0</th>\n",
       "      <td>1</td>\n",
       "      <td>100</td>\n",
       "      <td>4</td>\n",
       "      <td>1</td>\n",
       "      <td>9.3</td>\n",
       "    </tr>\n",
       "    <tr>\n",
       "      <th>1</th>\n",
       "      <td>2</td>\n",
       "      <td>50</td>\n",
       "      <td>3</td>\n",
       "      <td>0</td>\n",
       "      <td>4.8</td>\n",
       "    </tr>\n",
       "    <tr>\n",
       "      <th>2</th>\n",
       "      <td>3</td>\n",
       "      <td>100</td>\n",
       "      <td>4</td>\n",
       "      <td>1</td>\n",
       "      <td>8.9</td>\n",
       "    </tr>\n",
       "    <tr>\n",
       "      <th>3</th>\n",
       "      <td>4</td>\n",
       "      <td>100</td>\n",
       "      <td>2</td>\n",
       "      <td>2</td>\n",
       "      <td>6.5</td>\n",
       "    </tr>\n",
       "    <tr>\n",
       "      <th>4</th>\n",
       "      <td>5</td>\n",
       "      <td>50</td>\n",
       "      <td>2</td>\n",
       "      <td>2</td>\n",
       "      <td>4.2</td>\n",
       "    </tr>\n",
       "    <tr>\n",
       "      <th>5</th>\n",
       "      <td>6</td>\n",
       "      <td>80</td>\n",
       "      <td>2</td>\n",
       "      <td>1</td>\n",
       "      <td>6.2</td>\n",
       "    </tr>\n",
       "    <tr>\n",
       "      <th>6</th>\n",
       "      <td>7</td>\n",
       "      <td>75</td>\n",
       "      <td>3</td>\n",
       "      <td>1</td>\n",
       "      <td>7.4</td>\n",
       "    </tr>\n",
       "    <tr>\n",
       "      <th>7</th>\n",
       "      <td>8</td>\n",
       "      <td>65</td>\n",
       "      <td>4</td>\n",
       "      <td>0</td>\n",
       "      <td>6.0</td>\n",
       "    </tr>\n",
       "    <tr>\n",
       "      <th>8</th>\n",
       "      <td>9</td>\n",
       "      <td>90</td>\n",
       "      <td>3</td>\n",
       "      <td>0</td>\n",
       "      <td>7.6</td>\n",
       "    </tr>\n",
       "    <tr>\n",
       "      <th>9</th>\n",
       "      <td>10</td>\n",
       "      <td>90</td>\n",
       "      <td>2</td>\n",
       "      <td>0</td>\n",
       "      <td>6.1</td>\n",
       "    </tr>\n",
       "  </tbody>\n",
       "</table>\n",
       "</div>"
      ],
      "text/plain": [
       "   Assignment  Miles  Numbers  VehicleType  Time\n",
       "0           1    100        4            1   9.3\n",
       "1           2     50        3            0   4.8\n",
       "2           3    100        4            1   8.9\n",
       "3           4    100        2            2   6.5\n",
       "4           5     50        2            2   4.2\n",
       "5           6     80        2            1   6.2\n",
       "6           7     75        3            1   7.4\n",
       "7           8     65        4            0   6.0\n",
       "8           9     90        3            0   7.6\n",
       "9          10     90        2            0   6.1"
      ]
     },
     "execution_count": 47,
     "metadata": {},
     "output_type": "execute_result"
    }
   ],
   "source": [
    "# Read in the CSV file and convert \"?\" to Nan\n",
    "# if there is no headers in csv, define the headers firts\n",
    "headers=[\"Assignment\", \"Miles\", \"Numbers\",\"VehicleType\", \"Time\"]\n",
    "# df_raw = pd.read_csv(\"../DataSet/DeliveryCategory.csv\", header=None, names =headers,  na_values = \"?\")\n",
    "df_raw = pd.read_csv(\"../DataSet/DeliveryCategory.csv\",skiprows=1, header=None,names=headers, na_values = \"?\")\n",
    "df_raw"
   ]
  },
  {
   "cell_type": "code",
   "execution_count": 48,
   "id": "63f60b38-d23a-45a1-8b64-8048fb875e0f",
   "metadata": {},
   "outputs": [
    {
     "data": {
      "text/html": [
       "<div>\n",
       "<style scoped>\n",
       "    .dataframe tbody tr th:only-of-type {\n",
       "        vertical-align: middle;\n",
       "    }\n",
       "\n",
       "    .dataframe tbody tr th {\n",
       "        vertical-align: top;\n",
       "    }\n",
       "\n",
       "    .dataframe thead th {\n",
       "        text-align: right;\n",
       "    }\n",
       "</style>\n",
       "<table border=\"1\" class=\"dataframe\">\n",
       "  <thead>\n",
       "    <tr style=\"text-align: right;\">\n",
       "      <th></th>\n",
       "      <th>Assignment</th>\n",
       "      <th>Miles</th>\n",
       "      <th>Numbers</th>\n",
       "      <th>VehicleType</th>\n",
       "      <th>Time</th>\n",
       "    </tr>\n",
       "  </thead>\n",
       "  <tbody>\n",
       "    <tr>\n",
       "      <th>count</th>\n",
       "      <td>10.00000</td>\n",
       "      <td>10.0000</td>\n",
       "      <td>10.000000</td>\n",
       "      <td>10.000000</td>\n",
       "      <td>10.000000</td>\n",
       "    </tr>\n",
       "    <tr>\n",
       "      <th>mean</th>\n",
       "      <td>5.50000</td>\n",
       "      <td>80.0000</td>\n",
       "      <td>2.900000</td>\n",
       "      <td>0.800000</td>\n",
       "      <td>6.700000</td>\n",
       "    </tr>\n",
       "    <tr>\n",
       "      <th>std</th>\n",
       "      <td>3.02765</td>\n",
       "      <td>19.5789</td>\n",
       "      <td>0.875595</td>\n",
       "      <td>0.788811</td>\n",
       "      <td>1.629588</td>\n",
       "    </tr>\n",
       "    <tr>\n",
       "      <th>min</th>\n",
       "      <td>1.00000</td>\n",
       "      <td>50.0000</td>\n",
       "      <td>2.000000</td>\n",
       "      <td>0.000000</td>\n",
       "      <td>4.200000</td>\n",
       "    </tr>\n",
       "    <tr>\n",
       "      <th>25%</th>\n",
       "      <td>3.25000</td>\n",
       "      <td>67.5000</td>\n",
       "      <td>2.000000</td>\n",
       "      <td>0.000000</td>\n",
       "      <td>6.025000</td>\n",
       "    </tr>\n",
       "    <tr>\n",
       "      <th>50%</th>\n",
       "      <td>5.50000</td>\n",
       "      <td>85.0000</td>\n",
       "      <td>3.000000</td>\n",
       "      <td>1.000000</td>\n",
       "      <td>6.350000</td>\n",
       "    </tr>\n",
       "    <tr>\n",
       "      <th>75%</th>\n",
       "      <td>7.75000</td>\n",
       "      <td>97.5000</td>\n",
       "      <td>3.750000</td>\n",
       "      <td>1.000000</td>\n",
       "      <td>7.550000</td>\n",
       "    </tr>\n",
       "    <tr>\n",
       "      <th>max</th>\n",
       "      <td>10.00000</td>\n",
       "      <td>100.0000</td>\n",
       "      <td>4.000000</td>\n",
       "      <td>2.000000</td>\n",
       "      <td>9.300000</td>\n",
       "    </tr>\n",
       "  </tbody>\n",
       "</table>\n",
       "</div>"
      ],
      "text/plain": [
       "       Assignment     Miles    Numbers  VehicleType       Time\n",
       "count    10.00000   10.0000  10.000000    10.000000  10.000000\n",
       "mean      5.50000   80.0000   2.900000     0.800000   6.700000\n",
       "std       3.02765   19.5789   0.875595     0.788811   1.629588\n",
       "min       1.00000   50.0000   2.000000     0.000000   4.200000\n",
       "25%       3.25000   67.5000   2.000000     0.000000   6.025000\n",
       "50%       5.50000   85.0000   3.000000     1.000000   6.350000\n",
       "75%       7.75000   97.5000   3.750000     1.000000   7.550000\n",
       "max      10.00000  100.0000   4.000000     2.000000   9.300000"
      ]
     },
     "execution_count": 48,
     "metadata": {},
     "output_type": "execute_result"
    }
   ],
   "source": [
    "# Take a quick look at all the values in the data\n",
    "df_raw.describe()"
   ]
  },
  {
   "cell_type": "markdown",
   "id": "b5d9907b-86b5-4586-acba-ade9af7dc47a",
   "metadata": {},
   "source": [
    "## Vehicle type is categoeritical data, Vectorize"
   ]
  },
  {
   "cell_type": "code",
   "execution_count": 61,
   "id": "26d2dba2-4b77-419b-8ec0-abc91897d70a",
   "metadata": {},
   "outputs": [
    {
     "data": {
      "text/html": [
       "<div>\n",
       "<style scoped>\n",
       "    .dataframe tbody tr th:only-of-type {\n",
       "        vertical-align: middle;\n",
       "    }\n",
       "\n",
       "    .dataframe tbody tr th {\n",
       "        vertical-align: top;\n",
       "    }\n",
       "\n",
       "    .dataframe thead th {\n",
       "        text-align: right;\n",
       "    }\n",
       "</style>\n",
       "<table border=\"1\" class=\"dataframe\">\n",
       "  <thead>\n",
       "    <tr style=\"text-align: right;\">\n",
       "      <th></th>\n",
       "      <th>Miles</th>\n",
       "      <th>Numbers</th>\n",
       "      <th>salon</th>\n",
       "      <th>suv</th>\n",
       "      <th>truck</th>\n",
       "    </tr>\n",
       "  </thead>\n",
       "  <tbody>\n",
       "    <tr>\n",
       "      <th>0</th>\n",
       "      <td>100</td>\n",
       "      <td>4</td>\n",
       "      <td>0</td>\n",
       "      <td>1</td>\n",
       "      <td>0</td>\n",
       "    </tr>\n",
       "    <tr>\n",
       "      <th>1</th>\n",
       "      <td>50</td>\n",
       "      <td>3</td>\n",
       "      <td>1</td>\n",
       "      <td>0</td>\n",
       "      <td>0</td>\n",
       "    </tr>\n",
       "    <tr>\n",
       "      <th>2</th>\n",
       "      <td>100</td>\n",
       "      <td>4</td>\n",
       "      <td>0</td>\n",
       "      <td>1</td>\n",
       "      <td>0</td>\n",
       "    </tr>\n",
       "    <tr>\n",
       "      <th>3</th>\n",
       "      <td>100</td>\n",
       "      <td>2</td>\n",
       "      <td>0</td>\n",
       "      <td>0</td>\n",
       "      <td>1</td>\n",
       "    </tr>\n",
       "    <tr>\n",
       "      <th>4</th>\n",
       "      <td>50</td>\n",
       "      <td>2</td>\n",
       "      <td>0</td>\n",
       "      <td>0</td>\n",
       "      <td>1</td>\n",
       "    </tr>\n",
       "    <tr>\n",
       "      <th>5</th>\n",
       "      <td>80</td>\n",
       "      <td>2</td>\n",
       "      <td>0</td>\n",
       "      <td>1</td>\n",
       "      <td>0</td>\n",
       "    </tr>\n",
       "    <tr>\n",
       "      <th>6</th>\n",
       "      <td>75</td>\n",
       "      <td>3</td>\n",
       "      <td>0</td>\n",
       "      <td>1</td>\n",
       "      <td>0</td>\n",
       "    </tr>\n",
       "    <tr>\n",
       "      <th>7</th>\n",
       "      <td>65</td>\n",
       "      <td>4</td>\n",
       "      <td>1</td>\n",
       "      <td>0</td>\n",
       "      <td>0</td>\n",
       "    </tr>\n",
       "    <tr>\n",
       "      <th>8</th>\n",
       "      <td>90</td>\n",
       "      <td>3</td>\n",
       "      <td>1</td>\n",
       "      <td>0</td>\n",
       "      <td>0</td>\n",
       "    </tr>\n",
       "    <tr>\n",
       "      <th>9</th>\n",
       "      <td>90</td>\n",
       "      <td>2</td>\n",
       "      <td>1</td>\n",
       "      <td>0</td>\n",
       "      <td>0</td>\n",
       "    </tr>\n",
       "  </tbody>\n",
       "</table>\n",
       "</div>"
      ],
      "text/plain": [
       "   Miles  Numbers  salon  suv  truck\n",
       "0    100        4      0    1      0\n",
       "1     50        3      1    0      0\n",
       "2    100        4      0    1      0\n",
       "3    100        2      0    0      1\n",
       "4     50        2      0    0      1\n",
       "5     80        2      0    1      0\n",
       "6     75        3      0    1      0\n",
       "7     65        4      1    0      0\n",
       "8     90        3      1    0      0\n",
       "9     90        2      1    0      0"
      ]
     },
     "execution_count": 61,
     "metadata": {},
     "output_type": "execute_result"
    }
   ],
   "source": [
    "def dataVector(df:pd.DataFrame ) ->pd.DataFrame :\n",
    "    df_temp = df.copy(deep=True)\n",
    "    df_temp[\"salon\"] = 0\n",
    "    df_temp[\"suv\"] = 0\n",
    "    df_temp[\"truck\"] = 0\n",
    "    for index, row in df_temp.iterrows():\n",
    "        if (row['VehicleType'] == 0):\n",
    "            df_temp.loc[index,'salon'] =1\n",
    "        elif (row['VehicleType'] == 1):\n",
    "            df_temp.loc[index,'suv'] =1\n",
    "        elif (row['VehicleType'] == 2):\n",
    "            df_temp.loc[index,'truck'] =1\n",
    "    return df_temp[['Miles','Numbers','salon','suv','truck']]\n",
    "    \n",
    "x_dummy = dataVector(df_raw)\n",
    "x_dummy"
   ]
  },
  {
   "cell_type": "code",
   "execution_count": 62,
   "id": "532638d4-12aa-4a5d-b1e4-7eb188b93183",
   "metadata": {},
   "outputs": [
    {
     "data": {
      "text/plain": [
       "0    9.3\n",
       "1    4.8\n",
       "2    8.9\n",
       "3    6.5\n",
       "4    4.2\n",
       "5    6.2\n",
       "6    7.4\n",
       "7    6.0\n",
       "8    7.6\n",
       "9    6.1\n",
       "Name: Time, dtype: float64"
      ]
     },
     "execution_count": 62,
     "metadata": {},
     "output_type": "execute_result"
    }
   ],
   "source": [
    "y = df_raw[\"Time\"]\n",
    "y"
   ]
  },
  {
   "cell_type": "code",
   "execution_count": 63,
   "id": "91ea86cd-dc8d-4f6d-aae5-5c5c062f9486",
   "metadata": {},
   "outputs": [],
   "source": [
    "reg = linear_model.LinearRegression(fit_intercept=True)"
   ]
  },
  {
   "cell_type": "code",
   "execution_count": 64,
   "id": "a8f82db0-67e1-45d8-8185-7360c997029a",
   "metadata": {},
   "outputs": [
    {
     "data": {
      "text/plain": [
       "LinearRegression()"
      ]
     },
     "execution_count": 64,
     "metadata": {},
     "output_type": "execute_result"
    }
   ],
   "source": [
    "reg.fit(x_dummy,y)"
   ]
  },
  {
   "cell_type": "code",
   "execution_count": 65,
   "id": "7720d054-5a4f-4835-9416-9d322dc4a100",
   "metadata": {},
   "outputs": [
    {
     "data": {
      "text/plain": [
       "array([ 0.0536575 ,  0.76097698, -0.24959948,  0.58029384, -0.33069437])"
      ]
     },
     "execution_count": 65,
     "metadata": {},
     "output_type": "execute_result"
    }
   ],
   "source": [
    "reg.coef_"
   ]
  },
  {
   "cell_type": "code",
   "execution_count": 66,
   "id": "f85be1a3-7fd0-4b30-897d-5919d8f222ef",
   "metadata": {},
   "outputs": [
    {
     "data": {
      "text/plain": [
       "0.13442822384428066"
      ]
     },
     "execution_count": 66,
     "metadata": {},
     "output_type": "execute_result"
    }
   ],
   "source": [
    "reg.intercept_"
   ]
  },
  {
   "cell_type": "code",
   "execution_count": 67,
   "id": "b9f2ff2e-4a3e-4dca-98e9-fce56926f4f5",
   "metadata": {},
   "outputs": [
    {
     "data": {
      "text/plain": [
       "array([9.12437956, 4.85063448, 9.12437956, 6.69143739, 4.00856261,\n",
       "       6.52927569, 7.02196519, 6.41647389, 6.99693431, 6.23595733])"
      ]
     },
     "execution_count": 67,
     "metadata": {},
     "output_type": "execute_result"
    }
   ],
   "source": [
    "y_hat = reg.predict(x_dummy)\n",
    "y_hat"
   ]
  },
  {
   "cell_type": "code",
   "execution_count": 73,
   "id": "e8503eac-68cf-437c-bf67-973163769567",
   "metadata": {},
   "outputs": [
    {
     "name": "stdout",
     "output_type": "stream",
     "text": [
      "x_pred\n",
      "   Miles  Numbers  salon  suv  truck\n",
      "0    105        3      1    0      0\n",
      "1     95        4      0    1      0\n",
      "y_pred\n",
      "[7.80179674 8.85609208]\n"
     ]
    }
   ],
   "source": [
    "x_pred_data =pd.DataFrame({'Miles':[105,95],\n",
    "                      'Numbers':[3,4],\n",
    "                     'VehicleType':[0,1]})\n",
    "x_pred = dataVector(x_pred_data)\n",
    "print('x_pred')\n",
    "print( x_pred)\n",
    "y_pred = reg.predict(x_pred)\n",
    "print('y_pred')\n",
    "print( y_pred)"
   ]
  }
 ],
 "metadata": {
  "kernelspec": {
   "display_name": "Python 3 (ipykernel)",
   "language": "python",
   "name": "python3"
  },
  "language_info": {
   "codemirror_mode": {
    "name": "ipython",
    "version": 3
   },
   "file_extension": ".py",
   "mimetype": "text/x-python",
   "name": "python",
   "nbconvert_exporter": "python",
   "pygments_lexer": "ipython3",
   "version": "3.9.13"
  }
 },
 "nbformat": 4,
 "nbformat_minor": 5
}
