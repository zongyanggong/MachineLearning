{
 "cells": [
  {
   "cell_type": "markdown",
   "id": "172396eb-3844-4615-8423-4ee7476ea718",
   "metadata": {},
   "source": [
    "# Mini_batch gradient descent"
   ]
  },
  {
   "cell_type": "code",
   "execution_count": 1,
   "id": "f075c7ea-0c24-4e26-8b39-0bfd8a6046b1",
   "metadata": {},
   "outputs": [],
   "source": [
    "import numpy as np"
   ]
  },
  {
   "cell_type": "code",
   "execution_count": 74,
   "id": "1af31653-5def-4f1d-9b14-b4fb174ec64c",
   "metadata": {},
   "outputs": [],
   "source": [
    "x = 2 * np.random.rand(100,1)\n",
    "y = 4 + 3 * x +np.random.randn(100,1)\n",
    "x_b = np.c_[np.ones((100,1)), x]\n",
    "n_epochs = 1000\n",
    "batch_size = 10\n",
    "m = 100;\n",
    "num_batches = int(m/batch_size)\n",
    "t0, t1 = 5,500\n",
    "def learning_rate_schedule(t):\n",
    "    return t0/(t1+t)"
   ]
  },
  {
   "cell_type": "markdown",
   "id": "353d7233-6287-4976-b44e-bef1d72924a5",
   "metadata": {},
   "source": [
    "## Step1: init $\\theta$\n",
    "## Step2: calculate gradient\n",
    "## Step3: calculate $\\theta^{t+1}=\\theta^t-\\eta * gradient$\n",
    "## Step4: Judging whether to converge （use a great loop to realize）"
   ]
  },
  {
   "cell_type": "code",
   "execution_count": 76,
   "id": "fbf6aa81-8fa8-453b-a8d9-01e3aa4e0596",
   "metadata": {},
   "outputs": [
    {
     "name": "stdout",
     "output_type": "stream",
     "text": [
      "[[3.99574134]\n",
      " [2.81565899]]\n"
     ]
    }
   ],
   "source": [
    "theta = np.random.random((2,1))\n",
    "\n",
    "for epoch in range(n_epochs):\n",
    "    attr = np.arange(m)\n",
    "    np.random.shuffle(attr)\n",
    "    x_b = x_b[attr]\n",
    "    y= y[attr]\n",
    "    for i in range(num_batches):\n",
    "        xi = x_b[i*batch_size:i*batch_size+batch_size]\n",
    "        yi = y[i*batch_size:i*batch_size+batch_size]\n",
    "        gradient = xi.T.dot(xi.dot(theta)-yi )\n",
    "        learing_rate = learning_rate_schedule(epoch*num_batches+i)\n",
    "        theta -= learning_rate * gradient\n",
    "print(theta)\n",
    "        "
   ]
  }
 ],
 "metadata": {
  "kernelspec": {
   "display_name": "Python 3 (ipykernel)",
   "language": "python",
   "name": "python3"
  },
  "language_info": {
   "codemirror_mode": {
    "name": "ipython",
    "version": 3
   },
   "file_extension": ".py",
   "mimetype": "text/x-python",
   "name": "python",
   "nbconvert_exporter": "python",
   "pygments_lexer": "ipython3",
   "version": "3.9.13"
  }
 },
 "nbformat": 4,
 "nbformat_minor": 5
}
